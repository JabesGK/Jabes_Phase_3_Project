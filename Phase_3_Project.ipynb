{
 "cells": [
  {
   "cell_type": "markdown",
   "id": "af8a25e7-4499-4f75-ae44-76bf16ff56b2",
   "metadata": {},
   "source": [
    "# **Phase 3 Project**"
   ]
  },
  {
   "cell_type": "markdown",
   "id": "4e04dede",
   "metadata": {},
   "source": [
    "# **Project Title:**\n",
    "## **Dialing into Retention: Predicting Customer Churn at SyriaTel Using Machine Learning**"
   ]
  },
  {
   "cell_type": "markdown",
   "id": "0a43dd61",
   "metadata": {},
   "source": []
  },
  {
   "cell_type": "code",
   "execution_count": null,
   "id": "c327ddd8-a074-4950-b6c0-434c31afc2b2",
   "metadata": {},
   "outputs": [],
   "source": [
    "- Brief description of the business problem\n",
    "- Overview of the objective (churn prediction)\n",
    "- Stakeholders and business value\n",
    "- Summary of dataset used\n"
   ]
  }
 ],
 "metadata": {
  "kernelspec": {
   "display_name": "my_env1",
   "language": "python",
   "name": "my_env1"
  },
  "language_info": {
   "codemirror_mode": {
    "name": "ipython",
    "version": 3
   },
   "file_extension": ".py",
   "mimetype": "text/x-python",
   "name": "python",
   "nbconvert_exporter": "python",
   "pygments_lexer": "ipython3",
   "version": "3.12.2"
  }
 },
 "nbformat": 4,
 "nbformat_minor": 5
}
