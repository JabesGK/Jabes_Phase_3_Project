{
 "cells": [
  {
   "cell_type": "markdown",
   "id": "af8a25e7-4499-4f75-ae44-76bf16ff56b2",
   "metadata": {},
   "source": [
    "# **Phase 3 Project**"
   ]
  },
  {
   "cell_type": "markdown",
   "id": "4e04dede",
   "metadata": {},
   "source": [
    "# **<u>Project Title**\n",
    "## **Dialing into Retention -**  ***Predicting Customer Churn at SyriaTel Using Machine Learning***"
   ]
  },
  {
   "cell_type": "markdown",
   "id": "d8d8681f",
   "metadata": {},
   "source": [
    "# **Project Objective**\n",
    "\n",
    "This project aims to support SyriaTel, a leading telecommunications provider, in proactively reducing customer churn through predictive modeling. Churn remains a critical concern for the company, as each lost customer directly impacts recurring revenue and increases acquisition costs. By identifying which customers are at high risk of leaving, SyriaTel can target interventions more effectively, strengthen customer loyalty, and optimize resource allocation.\n"
   ]
  },
  {
   "cell_type": "markdown",
   "id": "ebb4dfae",
   "metadata": {},
   "source": [
    "# **1. Understanding the Business Context**"
   ]
  },
  {
   "cell_type": "markdown",
   "id": "873a21d4",
   "metadata": {},
   "source": [
    "### **<u>1.1. Brief Description of the Business**"
   ]
  },
  {
   "cell_type": "markdown",
   "id": "5d9b84de",
   "metadata": {},
   "source": [
    "Customer churn can be defined the phenomenon where clients discontinue their service. This is a major concern for subscription-based businesses like SyriaTel. Every lost customer represents not only a direct loss of monthly revenue but also incurs costs associated with acquiring new users to replace them. \n",
    "\n",
    "In today’s competitive telecom environment, customer expectations are high, and dissatisfaction with pricing, service quality, or support can quickly lead to attrition.SyriaTel currently lacks an efficient, data-driven method to anticipate customer churn. The existing approach is largely reactive, identifying churn only after it occurs—when it’s too late to intervene. \n",
    "\n",
    "The key business question that need to be answered is: *Can customer behavior and service usage patterns be used to accurately predict churn, enabling proactive engagement to retain at-risk customers?* \n",
    "\n",
    "By answering this question, SyriaTel can move from a reactive to a proactive posture—intervening before a customer leaves rather than responding after the fact. Such predictive capability would allow for the creation of targeted offers, personalized outreach, and strategic improvements in service delivery. The ultimate objective is not only to reduce churn but to enhance customer lifetime value, improve satisfaction, and gain a competitive edge through data-informed decision-making."
   ]
  },
  {
   "cell_type": "markdown",
   "id": "366aa6cf",
   "metadata": {},
   "source": [
    "![alt text](image.png)\n",
    " \n",
    " **Source:** *medium.com/@islamhasabo/predicting-customer-churn-bc76f7760377*\n",
    "  \n",
    " "
   ]
  },
  {
   "cell_type": "markdown",
   "id": "718d106c",
   "metadata": {},
   "source": [
    "### **<u>1.2. Stakeholders and Business Value**<u>"
   ]
  },
  {
   "cell_type": "markdown",
   "id": "bc25474d",
   "metadata": {},
   "source": [
    "In any business endeavor to enhance operational efficiency and profitability, it is vital first to identify the primary decision-makers and users of the insights generated. For this project, the primary stakeholders are **the Customer Retention** and **Marketing teams** at SyriaTel, a leading telecommunications provider. These teams are directly responsible for maintaining and growing the subscriber base, making them the most affected by customer churn issues. \n",
    "\n",
    "Secondary stakeholders include the **Call Center Operations unit**, which manages customer grievances and service interactions, factors influencing churn, and **Product Managers**, who design telecom plans that impact customer satisfaction. \n",
    "\n",
    "Finally, **Executive Leadership** benefits from strategic insights that guide customer-centric policies and long-term planning. Understanding the goals and concerns of these stakeholder groups ensures that the data science solution is aligned with the company’s strategic priorities."
   ]
  },
  {
   "cell_type": "markdown",
   "id": "a90c62d9",
   "metadata": {},
   "source": [
    "### **<u>1.3. The Business Question**"
   ]
  },
  {
   "cell_type": "markdown",
   "id": "eeb3df81",
   "metadata": {},
   "source": [
    "### 1.3.1 Key Business Question\n",
    "The main business question that this project aim to address is:\n",
    "\n",
    "- Can SyriaTel identify patterns in customer behavior and service usage that reliably predict churn, enabling proactive retention strategies?"
   ]
  },
  {
   "cell_type": "markdown",
   "id": "4f8787c0",
   "metadata": {},
   "source": [
    "### 1.3.2 The Specific Business Questions"
   ]
  },
  {
   "cell_type": "markdown",
   "id": "56b31872",
   "metadata": {},
   "source": [
    "Based on the defined business problem, predicting customer churn to enable proactive retention,this project will aim to answer the following specific questions:\n",
    "\n",
    "**1.\tWhich customers are most likely to churn?**\n",
    "\n",
    "*→ Will involve identifying high-risk individuals based on their service usage, behavior, and support interactions.*\n",
    "\n",
    "**2.\tWhat are the main drivers of customer churn?**\n",
    "        \n",
    "*→ Will entail understanding which variables (e.g., international plan, total charges, customer service calls) are most strongly associated with churn.*\n",
    "\n",
    "**3.\tHow accurate is our churn prediction model?**\n",
    "        \n",
    "*→ Will evaluate the model’s performance using appropriate classification metrics such as accuracy, precision, recall, and F1-score.*\n",
    "\n",
    "**4.\tHow can SyriaTel use these predictions to retain customers?**\n",
    "        \n",
    "*→ Will provide business recommendations on targeted interventions (e.g., offers, support improvements) for high-risk customers.*\n",
    "\n",
    "**5.\tWhat trade-offs exist between model complexity and interpretability?**\n",
    "       \n",
    "*→ Will balance predictive power with the ability to explain model results to non-technical stakeholders.*\n"
   ]
  },
  {
   "cell_type": "markdown",
   "id": "e0392d6a",
   "metadata": {},
   "source": [
    "### **<u>1.4 A Brief Description of the Chosen Dataset**"
   ]
  },
  {
   "cell_type": "markdown",
   "id": "f2bbd998",
   "metadata": {},
   "source": [
    "To address the stated business problem, this project uses a well-known, publicly available Telco Customer Churn dataset titled bigml_59c28831336c6604c800002a.csv, *(applied as bigml_59.csv)*, available at https://www.kaggle.com/datasets/becksddf/churn-in-telecoms-dataset. \n",
    "While not proprietary to SyriaTel, the dataset closely mirrors the type of operational and behavioral data that a typical telecom provider, such as SyriaTel, collects on its subscribers. \n",
    "\n",
    "The dataset contains 3,333 customer records and 21 variables, including demographic information (e.g., account length, state), service plan details (e.g., international and voicemail plans), usage statistics (e.g., total minutes and charges by time of day), and customer interaction data (e.g., number of customer service calls). The target variable, *churn*, is a binary field indicating whether the customer discontinued their service during the observation period.\n",
    "This rich feature set allows for both exploratory and predictive analysis providing a robust foundation for building classification models that can distinguish between customers likely to remain loyal and those at risk of leaving. \n",
    "\n",
    "The structure of this dataset is consistent with the types of data typically captured by telecom providers, making it an appropriate and realistic foundation for model development. It enables the application of classification algorithms to detect early warning signs of churn, and ultimately offers a blueprint for a predictive system that SyriaTel could implement with its internal data.\n",
    "Moreover, the dataset’s structure supports the use of interpretable models, which are essential when making business decisions that require stakeholder trust and accountability.\n"
   ]
  },
  {
   "cell_type": "markdown",
   "id": "40ad04a3",
   "metadata": {},
   "source": [
    "### **<u>1.5 The Project Approach Taken**"
   ]
  },
  {
   "cell_type": "markdown",
   "id": "04d58757",
   "metadata": {},
   "source": [
    "This section outlines the methodology used in the project, following a standard data science pipeline:\n",
    " \n",
    "**Step 1: Defining the Business Context and Problem.**\n",
    "\n",
    "•\tBusiness Framing and Problem Definition.\n",
    "\n",
    "•\tIdentify primary and secondary stakeholders.\n",
    "\n",
    "•\tFormulate key business questions and success criteria.\n",
    "\n",
    " \n",
    "**Step 2: Data Exploration and Understanding**\n",
    "\n",
    "•\tLoad the dataset and examine structure, types, and value distributions.\n",
    "\n",
    "•\tPerform univariate and bivariate analysis to uncover patterns.\n",
    "\n",
    "•\tIdentify data quality issues (missing values, outliers, class imbalance).\n",
    "\n",
    " \n",
    "**Step 3: Data Cleaning and Preprocessing**\n",
    "\n",
    "•\tDrop irrelevant features (e.g., phone number).\n",
    "\n",
    "•\tEncode categorical variables using appropriate methods (label or one-hot encoding).\n",
    "\n",
    "•\tConvert Boolean fields to numeric (e.g., True → 1, False → 0).\n",
    "\n",
    "•\tNormalize or scale numerical features if needed.\n",
    "\n",
    " \n",
    "**Step 4: Feature Selection and Engineering**\n",
    "\n",
    "•\tAnalyze correlations and importance scores to select useful features.\n",
    "\n",
    "•\tCreate derived variables (e.g., total charges per call, high usage flags).\n",
    "\n",
    "•\tReduce dimensionality if needed (e.g., via PCA or feature pruning).\n",
    "\n",
    " \n",
    "**Step 5: Model Building**\n",
    "\n",
    "•\tStart with a simple baseline model (e.g., logistic regression or decision tree).\n",
    "\n",
    "•\tSplit data into training and test sets to avoid overfitting.\n",
    "\n",
    "•\tTrain multiple models including tuned versions (e.g., Random Forest, Gradient Boosting).\n",
    "\n",
    " \n",
    "**Step 6: Model Evaluation**\n",
    "\n",
    "•\tUse classification metrics (accuracy, precision, recall, F1-score, ROC-AUC).\n",
    "\n",
    "•\tEvaluate models on both training and test data.\n",
    "\n",
    "•\tCompare performance to select the most balanced model.\n",
    " \n",
    "\n",
    "**Step 7: Interpretation and Insights**\n",
    "\n",
    "•\tAnalyze feature importance to understand what drives churn.\n",
    "\n",
    "•\tVisualize decision boundaries or trees for model transparency.\n",
    "\n",
    "•\tLink data patterns to customer behaviors and business policies.\n",
    "\n",
    " \n",
    "**Step 8: Recommendations and Next Steps**\n",
    "\n",
    "•\tPropose targeted retention actions for high-risk customer segments.\n",
    "\n",
    "•\tSuggest data collection improvements for future modeling.\n",
    "\n",
    "•\tRecommend integration of the model into SyriaTel’s CRM or customer service platform.\n"
   ]
  },
  {
   "cell_type": "markdown",
   "id": "612722ec",
   "metadata": {},
   "source": []
  }
 ],
 "metadata": {
  "kernelspec": {
   "display_name": "my_env1",
   "language": "python",
   "name": "python3"
  },
  "language_info": {
   "codemirror_mode": {
    "name": "ipython",
    "version": 3
   },
   "file_extension": ".py",
   "mimetype": "text/x-python",
   "name": "python",
   "nbconvert_exporter": "python",
   "pygments_lexer": "ipython3",
   "version": "3.9.21"
  }
 },
 "nbformat": 4,
 "nbformat_minor": 5
}
